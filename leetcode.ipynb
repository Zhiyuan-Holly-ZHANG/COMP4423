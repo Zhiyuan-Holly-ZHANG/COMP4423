{
 "cells": [
  {
   "cell_type": "code",
   "execution_count": 6,
   "metadata": {},
   "outputs": [],
   "source": [
    "class ListNode(object):\n",
    "    def __init__(self, val=0, next=None):\n",
    "        self.val = val\n",
    "        self.next = next\n",
    "class Solution(object):\n",
    "    def addTwoNumbers(self, l1, l2):\n",
    "        \"\"\"\n",
    "        :type l1: ListNode\n",
    "        :type l2: ListNode\n",
    "        :rtype: ListNode\n",
    "        \"\"\"\n",
    "        a = l1\n",
    "        b = l2\n",
    "        l1_v = a.val\n",
    "        l2_v = b.val\n",
    "        \n",
    "        while a.next is not None:\n",
    "            a = a.next\n",
    "            l1_v = l1_v*10 + a.val\n",
    "        \n",
    "        while b.next is not None:\n",
    "            b = b.next\n",
    "            l2_v = l2_v*10 + b.val\n",
    "        \n",
    "        ans = l1_v+l2_v\n",
    "        str_ans = str(ans)\n",
    "\n",
    "        h1 = int(str_ans[0])\n",
    "        \n",
    "        head = ListNode(h1)\n",
    "\n",
    "        fo = head\n",
    "        i = 1\n",
    "        while i < len(str_ans):\n",
    "            h = int(str_ans[i])\n",
    "            head.next = ListNode(h)\n",
    "            i+=1\n",
    "        return fo"
   ]
  },
  {
   "cell_type": "code",
   "execution_count": 7,
   "metadata": {},
   "outputs": [],
   "source": [
    "def addTwoNumbers(l1, l2):\n",
    "    a = l1\n",
    "    b = l2\n",
    "    l1_v = a.val\n",
    "    l2_v = b.val\n",
    "    \n",
    "    ii = 1\n",
    "    while a.next is not None:\n",
    "        a = a.next\n",
    "        l1_v = l1_v + a.val*(10**ii)\n",
    "        ii+=1\n",
    "    \n",
    "    ii=1\n",
    "    while b.next is not None:\n",
    "        b = b.next\n",
    "        l2_v = l2_v + b.val*(10**ii)\n",
    "        ii+=1\n",
    "        \n",
    "    print(l1_v)\n",
    "    print(l2_v)\n",
    "    \n",
    "    ans = l1_v+l2_v\n",
    "    print(ans)\n",
    "\n",
    "    ######################################\n",
    "    str_ans = str(ans)\n",
    "\n",
    "    h1 = int(str_ans[-1])\n",
    "    \n",
    "    head = ListNode(h1)\n",
    "\n",
    "    fo = head\n",
    "    i = 2\n",
    "    while i <= len(str_ans):\n",
    "        h = int(str_ans[-i])\n",
    "        head.next = ListNode(h)\n",
    "        i+=1\n",
    "    return fo"
   ]
  },
  {
   "cell_type": "code",
   "execution_count": 8,
   "metadata": {},
   "outputs": [
    {
     "name": "stdout",
     "output_type": "stream",
     "text": [
      "342\n",
      "465\n",
      "807\n"
     ]
    }
   ],
   "source": [
    "# l1 = [2,4,3]\n",
    "# l2 = [5,6,4]\n",
    "\n",
    "l1 = ListNode(2, ListNode(4, ListNode(3)))\n",
    "l2 = ListNode(5, ListNode(6, ListNode(4)))\n",
    "k = addTwoNumbers(l1, l2)"
   ]
  },
  {
   "cell_type": "code",
   "execution_count": 1,
   "metadata": {},
   "outputs": [
    {
     "data": {
      "text/plain": [
       "9"
      ]
     },
     "execution_count": 1,
     "metadata": {},
     "output_type": "execute_result"
    }
   ],
   "source": [
    "height = [1,8,6,2,5,4,8,3,7]\n",
    "len(height)"
   ]
  },
  {
   "cell_type": "code",
   "execution_count": 14,
   "metadata": {},
   "outputs": [],
   "source": [
    "s=\"dvdf\"\n",
    "l1 = []\n",
    "newS = \"\"\n",
    "# newS+=s[0]\n",
    "if len(s) > 1:\n",
    "    for i in range(0, len(s)):\n",
    "        if s[i] not in newS:\n",
    "            newS+=s[i]\n",
    "        else:\n",
    "            ind = newS.index(s[i])\n",
    "            \n",
    "            l1.append(newS)\n",
    "            newS = newS[ind+1:]\n",
    "            newS += s[i]\n",
    "        \n",
    "    l1.append(newS)\n",
    "\n",
    "    length = 0\n",
    "    for j in l1:\n",
    "        if (len(j)>length):\n",
    "            length = len(j)\n",
    "else:\n",
    "    length = len(s)\n"
   ]
  },
  {
   "cell_type": "code",
   "execution_count": 15,
   "metadata": {},
   "outputs": [
    {
     "data": {
      "text/plain": [
       "0"
      ]
     },
     "execution_count": 15,
     "metadata": {},
     "output_type": "execute_result"
    }
   ],
   "source": [
    "s.index(\"d\")"
   ]
  },
  {
   "cell_type": "code",
   "execution_count": 21,
   "metadata": {},
   "outputs": [],
   "source": [
    "nums1 = [1,3]\n",
    "nums2 = [2]"
   ]
  },
  {
   "cell_type": "code",
   "execution_count": 25,
   "metadata": {},
   "outputs": [
    {
     "data": {
      "text/plain": [
       "3"
      ]
     },
     "execution_count": 25,
     "metadata": {},
     "output_type": "execute_result"
    }
   ],
   "source": [
    "7//2"
   ]
  },
  {
   "cell_type": "code",
   "execution_count": 28,
   "metadata": {},
   "outputs": [],
   "source": [
    "import numpy as np"
   ]
  },
  {
   "cell_type": "code",
   "execution_count": 30,
   "metadata": {},
   "outputs": [],
   "source": [
    "newl = []\n",
    "i1 = 0\n",
    "i2 = 0\n",
    "l1 = len(nums1)\n",
    "l2 = len(nums2)\n",
    "while (i1 < l1) and (i2 < l2):\n",
    "    if nums1[i1] < nums2[i2]:\n",
    "        newl.append(nums1[i1])\n",
    "        i1 += 1\n",
    "    else:\n",
    "        newl.append(nums2[i2])\n",
    "        i2 += 1\n",
    "\n",
    "if i1 < l1:\n",
    "    newl.extend(nums1[i1:])\n",
    "\n",
    "if i2 < l2:\n",
    "    newl.extend(nums2[i2:])\n",
    "\n",
    "\n",
    "l = l1 + l2\n",
    "ans = 0\n",
    "if l % 2 == 1:\n",
    "    ans = newl[l//2]\n",
    "else:\n",
    "    ans = (newl[l/2]+newl[-1+l/2])/2.\n"
   ]
  },
  {
   "cell_type": "code",
   "execution_count": null,
   "metadata": {},
   "outputs": [],
   "source": []
  }
 ],
 "metadata": {
  "kernelspec": {
   "display_name": "base",
   "language": "python",
   "name": "python3"
  },
  "language_info": {
   "codemirror_mode": {
    "name": "ipython",
    "version": 3
   },
   "file_extension": ".py",
   "mimetype": "text/x-python",
   "name": "python",
   "nbconvert_exporter": "python",
   "pygments_lexer": "ipython3",
   "version": "3.11.3"
  }
 },
 "nbformat": 4,
 "nbformat_minor": 2
}
